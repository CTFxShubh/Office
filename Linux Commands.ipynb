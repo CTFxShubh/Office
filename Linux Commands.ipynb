{
  "cells": [
    {
      "cell_type": "markdown",
      "metadata": {
        "id": "view-in-github",
        "colab_type": "text"
      },
      "source": [
        "<a href=\"https://colab.research.google.com/github/CTFxShubh/Office/blob/main/Linux%20Commands.ipynb\" target=\"_parent\"><img src=\"https://colab.research.google.com/assets/colab-badge.svg\" alt=\"Open In Colab\"/></a>"
      ]
    },
    {
      "cell_type": "code",
      "source": [
        "ls -la"
      ],
      "metadata": {
        "colab": {
          "base_uri": "https://localhost:8080/"
        },
        "id": "yJkrD6O1OJTQ",
        "outputId": "a58309f0-c915-43be-cf13-542b7cd07e0d"
      },
      "execution_count": 5,
      "outputs": [
        {
          "output_type": "stream",
          "name": "stdout",
          "text": [
            "total 16\n",
            "drwxr-xr-x 1 root root 4096 Jun 13 13:28 \u001b[0m\u001b[01;34m.\u001b[0m/\n",
            "drwxr-xr-x 1 root root 4096 Jun 17 03:18 \u001b[01;34m..\u001b[0m/\n",
            "drwxr-xr-x 4 root root 4096 Jun 13 13:27 \u001b[01;34m.config\u001b[0m/\n",
            "drwxr-xr-x 1 root root 4096 Jun 13 13:28 \u001b[01;34msample_data\u001b[0m/\n"
          ]
        }
      ]
    },
    {
      "cell_type": "code",
      "source": [
        "ls -a\n"
      ],
      "metadata": {
        "colab": {
          "base_uri": "https://localhost:8080/"
        },
        "id": "z7Fn8y_eOUfB",
        "outputId": "92e9e144-44c6-43bc-f827-b6ca72dcf1f7"
      },
      "execution_count": 7,
      "outputs": [
        {
          "output_type": "stream",
          "name": "stdout",
          "text": [
            "\u001b[0m\u001b[01;34m.\u001b[0m/  \u001b[01;34m..\u001b[0m/  \u001b[01;34m.config\u001b[0m/  \u001b[01;34msample_data\u001b[0m/\n"
          ]
        }
      ]
    },
    {
      "cell_type": "code",
      "source": [
        "cat /etc/passwd"
      ],
      "metadata": {
        "id": "FuFQ_A6kO8Oa",
        "outputId": "d52d18ad-d39b-4106-8493-fc3dd9f28e7d",
        "colab": {
          "base_uri": "https://localhost:8080/"
        }
      },
      "execution_count": 15,
      "outputs": [
        {
          "output_type": "stream",
          "name": "stdout",
          "text": [
            "root:x:0:0:root:/root:/bin/bash\n",
            "daemon:x:1:1:daemon:/usr/sbin:/usr/sbin/nologin\n",
            "bin:x:2:2:bin:/bin:/usr/sbin/nologin\n",
            "sys:x:3:3:sys:/dev:/usr/sbin/nologin\n",
            "sync:x:4:65534:sync:/bin:/bin/sync\n",
            "games:x:5:60:games:/usr/games:/usr/sbin/nologin\n",
            "man:x:6:12:man:/var/cache/man:/usr/sbin/nologin\n",
            "lp:x:7:7:lp:/var/spool/lpd:/usr/sbin/nologin\n",
            "mail:x:8:8:mail:/var/mail:/usr/sbin/nologin\n",
            "news:x:9:9:news:/var/spool/news:/usr/sbin/nologin\n",
            "uucp:x:10:10:uucp:/var/spool/uucp:/usr/sbin/nologin\n",
            "proxy:x:13:13:proxy:/bin:/usr/sbin/nologin\n",
            "www-data:x:33:33:www-data:/var/www:/usr/sbin/nologin\n",
            "backup:x:34:34:backup:/var/backups:/usr/sbin/nologin\n",
            "list:x:38:38:Mailing List Manager:/var/list:/usr/sbin/nologin\n",
            "irc:x:39:39:ircd:/run/ircd:/usr/sbin/nologin\n",
            "gnats:x:41:41:Gnats Bug-Reporting System (admin):/var/lib/gnats:/usr/sbin/nologin\n",
            "nobody:x:65534:65534:nobody:/nonexistent:/usr/sbin/nologin\n",
            "_apt:x:100:65534::/nonexistent:/usr/sbin/nologin\n",
            "systemd-network:x:101:102:systemd Network Management,,,:/run/systemd:/usr/sbin/nologin\n",
            "systemd-resolve:x:102:103:systemd Resolver,,,:/run/systemd:/usr/sbin/nologin\n",
            "messagebus:x:103:104::/nonexistent:/usr/sbin/nologin\n"
          ]
        }
      ]
    },
    {
      "cell_type": "code",
      "source": [
        "ls -l"
      ],
      "metadata": {
        "id": "KCql0YooQg7N",
        "outputId": "0ca263d7-5525-42f5-b494-c5e38df57a4f",
        "colab": {
          "base_uri": "https://localhost:8080/"
        }
      },
      "execution_count": 22,
      "outputs": [
        {
          "output_type": "stream",
          "name": "stdout",
          "text": [
            "total 8\n",
            "drwxr-xr-x 1 root root 4096 Jun 13 13:28 \u001b[0m\u001b[01;34msample_data\u001b[0m/\n",
            "drwxr-xr-x 2 root root 4096 Jun 17 03:35 \u001b[01;34mshubh\u001b[0m/\n"
          ]
        }
      ]
    },
    {
      "cell_type": "code",
      "source": [
        "ls -l /etc/passwd\n"
      ],
      "metadata": {
        "id": "BOOpmoDeQ5SP",
        "outputId": "c8024df8-4480-442c-df38-c80e116b1942",
        "colab": {
          "base_uri": "https://localhost:8080/"
        }
      },
      "execution_count": 24,
      "outputs": [
        {
          "output_type": "stream",
          "name": "stdout",
          "text": [
            "-rw-r--r-- 1 root root 1139 Jun 13 13:16 /etc/passwd\n"
          ]
        }
      ]
    },
    {
      "cell_type": "code",
      "source": [
        "!pwd\n"
      ],
      "metadata": {
        "id": "0-EvbDSERC5K",
        "outputId": "a91008ef-b84a-40b9-fb0b-512abbe545e5",
        "colab": {
          "base_uri": "https://localhost:8080/"
        }
      },
      "execution_count": 28,
      "outputs": [
        {
          "output_type": "stream",
          "name": "stdout",
          "text": [
            "/content\n"
          ]
        }
      ]
    },
    {
      "cell_type": "code",
      "source": [
        "!ip a"
      ],
      "metadata": {
        "id": "axCdQqQHRW6z",
        "outputId": "b7fc14a4-d50e-4d3d-dc44-02ccdc06f320",
        "colab": {
          "base_uri": "https://localhost:8080/"
        }
      },
      "execution_count": 30,
      "outputs": [
        {
          "output_type": "stream",
          "name": "stdout",
          "text": [
            "1: lo: <LOOPBACK,UP,LOWER_UP> mtu 65536 qdisc noqueue state UNKNOWN group default qlen 1000\n",
            "    link/loopback 00:00:00:00:00:00 brd 00:00:00:00:00:00\n",
            "    inet 127.0.0.1/8 scope host lo\n",
            "       valid_lft forever preferred_lft forever\n",
            "9: eth0@if10: <BROADCAST,MULTICAST,UP,LOWER_UP> mtu 1500 qdisc noqueue state UP group default \n",
            "    link/ether 02:42:ac:1c:00:0c brd ff:ff:ff:ff:ff:ff link-netnsid 0\n",
            "    inet 172.28.0.12/16 brd 172.28.255.255 scope global eth0\n",
            "       valid_lft forever preferred_lft forever\n"
          ]
        }
      ]
    },
    {
      "cell_type": "code",
      "source": [
        "!whoami"
      ],
      "metadata": {
        "id": "E-X4HE37SMz4",
        "outputId": "8d527541-7335-4548-91b5-29298ed17c46",
        "colab": {
          "base_uri": "https://localhost:8080/"
        }
      },
      "execution_count": 33,
      "outputs": [
        {
          "output_type": "stream",
          "name": "stdout",
          "text": [
            "root\n"
          ]
        }
      ]
    },
    {
      "cell_type": "code",
      "source": [
        "!date"
      ],
      "metadata": {
        "id": "SHkrA3zxSSiY",
        "outputId": "35042945-65f8-41c1-901b-3d7500dd74b9",
        "colab": {
          "base_uri": "https://localhost:8080/"
        }
      },
      "execution_count": 35,
      "outputs": [
        {
          "output_type": "stream",
          "name": "stdout",
          "text": [
            "Mon Jun 17 03:41:55 AM UTC 2024\n"
          ]
        }
      ]
    },
    {
      "cell_type": "code",
      "source": [
        "!time"
      ],
      "metadata": {
        "id": "c74IWQYKSWgA",
        "outputId": "a20835d9-69cd-4848-ebae-2130ddbc9e69",
        "colab": {
          "base_uri": "https://localhost:8080/"
        }
      },
      "execution_count": 36,
      "outputs": [
        {
          "output_type": "stream",
          "name": "stdout",
          "text": [
            "\n",
            "real\t0m0.000s\n",
            "user\t0m0.000s\n",
            "sys\t0m0.000s\n"
          ]
        }
      ]
    },
    {
      "cell_type": "code",
      "source": [
        "!mkdir shubh\n",
        "!ls -l"
      ],
      "metadata": {
        "id": "bqf-Q4ixSX7K",
        "outputId": "a44fdd12-6a7a-49e7-cc08-d77f70b006a8",
        "colab": {
          "base_uri": "https://localhost:8080/"
        }
      },
      "execution_count": 44,
      "outputs": [
        {
          "output_type": "stream",
          "name": "stdout",
          "text": [
            "mkdir: cannot create directory ‘shubh’: File exists\n",
            "total 8\n",
            "drwxr-xr-x 1 root root 4096 Jun 13 13:28 sample_data\n",
            "drwxr-xr-x 2 root root 4096 Jun 17 03:43 shubh\n"
          ]
        }
      ]
    },
    {
      "cell_type": "code",
      "source": [
        "!echo \"shubh\""
      ],
      "metadata": {
        "id": "oLElgCjaSbUw",
        "outputId": "6ef3f0f8-d2fd-44f3-9f09-dff5d71f6f53",
        "colab": {
          "base_uri": "https://localhost:8080/"
        }
      },
      "execution_count": 45,
      "outputs": [
        {
          "output_type": "stream",
          "name": "stdout",
          "text": [
            "shubh\n"
          ]
        }
      ]
    },
    {
      "cell_type": "code",
      "source": [
        "!touch public.txt\n",
        "!ls -l"
      ],
      "metadata": {
        "id": "I2R_ykL9S0Gb",
        "outputId": "e4388bd0-dd29-4a8a-a5bf-0f3e9a140408",
        "colab": {
          "base_uri": "https://localhost:8080/"
        }
      },
      "execution_count": 48,
      "outputs": [
        {
          "output_type": "stream",
          "name": "stdout",
          "text": [
            "total 8\n",
            "-rw-r--r-- 1 root root    0 Jun 17 03:44 public.txt\n",
            "drwxr-xr-x 1 root root 4096 Jun 13 13:28 sample_data\n",
            "drwxr-xr-x 2 root root 4096 Jun 17 03:43 shubh\n"
          ]
        }
      ]
    },
    {
      "cell_type": "code",
      "source": [
        "!uname\n"
      ],
      "metadata": {
        "id": "Y4hzgiYjS7-X",
        "outputId": "6c399883-4711-4a04-81fa-288f40b7f209",
        "colab": {
          "base_uri": "https://localhost:8080/"
        }
      },
      "execution_count": 51,
      "outputs": [
        {
          "output_type": "stream",
          "name": "stdout",
          "text": [
            "Linux\n"
          ]
        }
      ]
    },
    {
      "cell_type": "code",
      "source": [
        "!df"
      ],
      "metadata": {
        "id": "YAdHGWBvTP9x",
        "outputId": "97913380-0c57-41f7-c618-9f413b3b72a8",
        "colab": {
          "base_uri": "https://localhost:8080/"
        }
      },
      "execution_count": 52,
      "outputs": [
        {
          "output_type": "stream",
          "name": "stdout",
          "text": [
            "Filesystem     1K-blocks     Used Available Use% Mounted on\n",
            "overlay        112947452 28748620  84182448  26% /\n",
            "tmpfs              65536        0     65536   0% /dev\n",
            "shm              5989376        0   5989376   0% /dev/shm\n",
            "/dev/root        2019696  1180136    839560  59% /usr/sbin/docker-init\n",
            "tmpfs            6645232     2588   6642644   1% /var/colab\n",
            "/dev/sda1       73032084 48009352  25006348  66% /kaggle/input\n",
            "tmpfs            6645232        0   6645232   0% /proc/acpi\n",
            "tmpfs            6645232        0   6645232   0% /proc/scsi\n",
            "tmpfs            6645232        0   6645232   0% /sys/firmware\n"
          ]
        }
      ]
    },
    {
      "cell_type": "code",
      "source": [
        "!wc public.txt"
      ],
      "metadata": {
        "id": "paCw3AaVTRS1",
        "outputId": "d3fde71c-73bc-46a1-924d-4441485f4d9e",
        "colab": {
          "base_uri": "https://localhost:8080/"
        }
      },
      "execution_count": 55,
      "outputs": [
        {
          "output_type": "stream",
          "name": "stdout",
          "text": [
            "0 0 0 public.txt\n"
          ]
        }
      ]
    },
    {
      "cell_type": "code",
      "source": [
        "!ps"
      ],
      "metadata": {
        "id": "rqoLO425TgPF",
        "outputId": "c418ae5b-ece9-47a1-bdb9-f15eaaa15662",
        "colab": {
          "base_uri": "https://localhost:8080/"
        }
      },
      "execution_count": 56,
      "outputs": [
        {
          "output_type": "stream",
          "name": "stdout",
          "text": [
            "    PID TTY          TIME CMD\n",
            "      1 ?        00:00:00 docker-init\n",
            "      7 ?        00:00:05 node\n",
            "     17 ?        00:00:01 oom_monitor.sh\n",
            "     19 ?        00:00:00 run.sh\n",
            "     20 ?        00:00:00 kernel_manager_\n",
            "     23 ?        00:00:00 tail\n",
            "     62 ?        00:00:08 python3 <defunct>\n",
            "     63 ?        00:00:00 colab-fileshim.\n",
            "     85 ?        00:00:06 jupyter-noteboo\n",
            "     86 ?        00:00:01 dap_multiplexer\n",
            "    890 ?        00:00:11 python3\n",
            "    941 ?        00:00:02 python3\n",
            "   3031 ?        00:00:00 language_servic\n",
            "   3036 ?        00:00:17 node\n",
            "   7112 ?        00:00:00 sleep\n",
            "   7113 ?        00:00:00 ps\n"
          ]
        }
      ]
    },
    {
      "cell_type": "code",
      "source": [
        "!rm -rf public.txt\n",
        "!ls -l"
      ],
      "metadata": {
        "id": "SOoFa2WhTmYv",
        "outputId": "46586437-a800-4a85-a7c5-8bb3cafc4319",
        "colab": {
          "base_uri": "https://localhost:8080/"
        }
      },
      "execution_count": 62,
      "outputs": [
        {
          "output_type": "stream",
          "name": "stdout",
          "text": [
            "total 8\n",
            "drwxr-xr-x 1 root root 4096 Jun 13 13:28 sample_data\n",
            "drwxr-xr-x 2 root root 4096 Jun 17 03:43 shubh\n"
          ]
        }
      ]
    },
    {
      "cell_type": "code",
      "source": [
        "!mkdir public.txt\n",
        "!ls -l\n"
      ],
      "metadata": {
        "id": "TRhqIGmeT6p9",
        "outputId": "6e94ee61-1737-48d0-9006-bc55c0271631",
        "colab": {
          "base_uri": "https://localhost:8080/"
        }
      },
      "execution_count": 64,
      "outputs": [
        {
          "output_type": "stream",
          "name": "stdout",
          "text": [
            "mkdir: cannot create directory ‘public.txt’: File exists\n",
            "total 12\n",
            "drwxr-xr-x 2 root root 4096 Jun 17 03:49 public.txt\n",
            "drwxr-xr-x 1 root root 4096 Jun 13 13:28 sample_data\n",
            "drwxr-xr-x 2 root root 4096 Jun 17 03:43 shubh\n"
          ]
        }
      ]
    },
    {
      "cell_type": "code",
      "source": [
        "!echo \"Shubh\" >>public.txt"
      ],
      "metadata": {
        "id": "kzZnJ4cIUE9B",
        "outputId": "243d31fb-5bc0-4f68-bd6f-2370795cff70",
        "colab": {
          "base_uri": "https://localhost:8080/"
        }
      },
      "execution_count": 67,
      "outputs": [
        {
          "output_type": "stream",
          "name": "stdout",
          "text": [
            "/bin/bash: line 1: public.txt: Is a directory\n"
          ]
        }
      ]
    },
    {
      "cell_type": "code",
      "source": [
        "!id"
      ],
      "metadata": {
        "id": "OEeNY93EUu7M",
        "outputId": "4d11feda-6ac0-4ab2-b446-5380ef108dd5",
        "colab": {
          "base_uri": "https://localhost:8080/"
        }
      },
      "execution_count": 68,
      "outputs": [
        {
          "output_type": "stream",
          "name": "stdout",
          "text": [
            "uid=0(root) gid=0(root) groups=0(root)\n"
          ]
        }
      ]
    }
  ],
  "metadata": {
    "colab": {
      "name": "Welcome To Colab",
      "toc_visible": true,
      "provenance": [],
      "include_colab_link": true
    },
    "kernelspec": {
      "display_name": "Python 3",
      "name": "python3"
    }
  },
  "nbformat": 4,
  "nbformat_minor": 0
}